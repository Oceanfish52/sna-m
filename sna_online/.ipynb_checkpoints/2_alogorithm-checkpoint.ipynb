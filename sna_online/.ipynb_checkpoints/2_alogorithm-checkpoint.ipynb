{
 "cells": [
  {
   "cell_type": "code",
   "execution_count": 1,
   "id": "9b8fc295-6e04-4085-b9e1-0a28b235afc9",
   "metadata": {},
   "outputs": [],
   "source": [
    "# degree\n",
    "# degree cetrallity"
   ]
  },
  {
   "cell_type": "code",
   "execution_count": 2,
   "id": "3dd43fc3-8433-43b6-a1c6-af539c7165be",
   "metadata": {},
   "outputs": [
    {
     "ename": "ModuleNotFoundError",
     "evalue": "No module named 'nams'",
     "output_type": "error",
     "traceback": [
      "\u001b[0;31m---------------------------------------------------------------------------\u001b[0m",
      "\u001b[0;31mModuleNotFoundError\u001b[0m                       Traceback (most recent call last)",
      "Input \u001b[0;32mIn [2]\u001b[0m, in \u001b[0;36m<cell line: 1>\u001b[0;34m()\u001b[0m\n\u001b[0;32m----> 1\u001b[0m \u001b[38;5;28;01mfrom\u001b[39;00m \u001b[38;5;21;01mnams\u001b[39;00m \u001b[38;5;28;01mimport\u001b[39;00m load_data \u001b[38;5;28;01mas\u001b[39;00m cf\n\u001b[1;32m      2\u001b[0m G \u001b[38;5;241m=\u001b[39m cf\u001b[38;5;241m.\u001b[39mload_sociopatterns_network()\n",
      "\u001b[0;31mModuleNotFoundError\u001b[0m: No module named 'nams'"
     ]
    }
   ],
   "source": [
    "from nams import load_data as cf\n",
    "G = cf.load_sociopatterns_network()"
   ]
  },
  {
   "cell_type": "code",
   "execution_count": null,
   "id": "6ba7daa4-46f0-45f0-beb0-8b6233c9cf2a",
   "metadata": {},
   "outputs": [],
   "source": []
  }
 ],
 "metadata": {
  "kernelspec": {
   "display_name": "Python 3",
   "language": "python",
   "name": "python3"
  },
  "language_info": {
   "codemirror_mode": {
    "name": "ipython",
    "version": 3
   },
   "file_extension": ".py",
   "mimetype": "text/x-python",
   "name": "python",
   "nbconvert_exporter": "python",
   "pygments_lexer": "ipython3",
   "version": "3.9.12"
  }
 },
 "nbformat": 4,
 "nbformat_minor": 5
}
