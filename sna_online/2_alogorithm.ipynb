{
 "cells": [
  {
   "cell_type": "markdown",
   "id": "029e12d5-dadf-4534-aac7-1ae66d12f1e2",
   "metadata": {},
   "source": [
    "# Algorithm"
   ]
  },
  {
   "cell_type": "code",
   "execution_count": 1,
   "id": "75e9c124-cac4-4e61-ad1a-78445f34910f",
   "metadata": {},
   "outputs": [],
   "source": [
    "from nams import load_data as cf\n",
    "G = cf.load_sociopatterns_network()"
   ]
  },
  {
   "cell_type": "code",
   "execution_count": 2,
   "id": "033e5ca1-ccce-4594-8c40-cf91e69fd74a",
   "metadata": {},
   "outputs": [
    {
     "data": {
      "text/plain": [
       "(410, 2765)"
      ]
     },
     "execution_count": 2,
     "metadata": {},
     "output_type": "execute_result"
    }
   ],
   "source": [
    "len(G.nodes()), len(G.edges())"
   ]
  },
  {
   "cell_type": "code",
   "execution_count": 11,
   "id": "43103e48-97d8-4880-93b8-e0065daaba5d",
   "metadata": {},
   "outputs": [],
   "source": [
    "# list(G.nodes())"
   ]
  },
  {
   "cell_type": "markdown",
   "id": "d5a44bd5-ba3b-4a5d-b5c2-1abfdfd8d619",
   "metadata": {},
   "source": [
    "## A Measure of Importance:"
   ]
  },
  {
   "cell_type": "raw",
   "id": "65e9c5ca-6424-4716-af74-82eaab44975d",
   "metadata": {},
   "source": [
    "A Measure of Importance: \"Number of Neighbors\" - Degree"
   ]
  },
  {
   "cell_type": "code",
   "execution_count": 3,
   "id": "13878777-cd71-4eaf-8474-83a9ad00b0b7",
   "metadata": {},
   "outputs": [
    {
     "data": {
      "text/plain": [
       "<dict_keyiterator at 0x7f7951e4f5e0>"
      ]
     },
     "execution_count": 3,
     "metadata": {},
     "output_type": "execute_result"
    }
   ],
   "source": [
    "# query a graph for the number of neighbors of a given node:\n",
    "G.neighbors(7)"
   ]
  },
  {
   "cell_type": "code",
   "execution_count": 6,
   "id": "337b2949-076c-4710-9f53-9b9657a774a5",
   "metadata": {},
   "outputs": [
    {
     "data": {
      "text/plain": [
       "[5, 6, 21, 22, 37, 48, 51]"
      ]
     },
     "execution_count": 6,
     "metadata": {},
     "output_type": "execute_result"
    }
   ],
   "source": [
    "list(G.neighbors(7))"
   ]
  },
  {
   "cell_type": "code",
   "execution_count": 95,
   "id": "220ba722-1a04-4697-b3fe-96c9ac27e399",
   "metadata": {},
   "outputs": [
    {
     "data": {
      "text/plain": [
       "7"
      ]
     },
     "execution_count": 95,
     "metadata": {},
     "output_type": "execute_result"
    }
   ],
   "source": [
    "# number of nb\n",
    "dict(G.degree())[7]"
   ]
  },
  {
   "cell_type": "code",
   "execution_count": 32,
   "id": "8fe24a3f-d671-438a-a98a-ee74e4842fea",
   "metadata": {},
   "outputs": [],
   "source": [
    "from nams.solutions.hubs import rank_ordered_neighbors\n",
    "from nams.solutions.hubs import rank_ordered_neighbors_original\n",
    "from nams.solutions.hubs import rank_ordered_neighbors_generator"
   ]
  },
  {
   "cell_type": "markdown",
   "id": "4a58e2ab-f460-4edc-b7c7-fb26953071ee",
   "metadata": {},
   "source": [
    "## Rank_ordered_neighbors"
   ]
  },
  {
   "cell_type": "code",
   "execution_count": 52,
   "id": "2c2f6d42-5ef1-4798-9bfc-147447a196bd",
   "metadata": {},
   "outputs": [],
   "source": [
    "def rank_ordered_neighbors(G):\n",
    "    result = {}\n",
    "    for i in list(G.nodes()):\n",
    "        result[i] = len(list(G.neighbors(i)))\n",
    "    return result \n",
    "\n",
    "\n",
    "def rank_ordered_neighbors2(G):\n",
    "    \"\"\"\n",
    "    Uses a pandas Series to help with sorting.\n",
    "    \"\"\"\n",
    "    s = pd.Series({n: len(list(G.neighbors(n))) for n in G.nodes()})\n",
    "    return s.sort_values(ascending=False)"
   ]
  },
  {
   "cell_type": "code",
   "execution_count": 53,
   "id": "c1e8f9df-f9a6-419b-a2c3-0bbe8caff5f1",
   "metadata": {},
   "outputs": [],
   "source": [
    "result = rank_ordered_neighbors(G)\n",
    "result2 = rank_ordered_neighbors2(G)"
   ]
  },
  {
   "cell_type": "code",
   "execution_count": 29,
   "id": "6b70ae1a-740c-479e-9bba-bf7991524860",
   "metadata": {},
   "outputs": [],
   "source": [
    "ans = sorted(result.items(), key=lambda x: x[1], reverse=True)"
   ]
  },
  {
   "cell_type": "code",
   "execution_count": 78,
   "id": "a40b93a2-4634-4740-b9d2-959afb458272",
   "metadata": {},
   "outputs": [],
   "source": [
    "def plot_distribution(x,label):\n",
    "    plt.hist(x, density=True, bins=30) # density=False would make counts\n",
    "    plt.ylabel('Probability')\n",
    "    plt.xlabel(label)"
   ]
  },
  {
   "cell_type": "code",
   "execution_count": 83,
   "id": "e6e3b482-d3b5-4e3c-b9d5-005464dfff14",
   "metadata": {},
   "outputs": [],
   "source": [
    "deg_dist=list(result.values())"
   ]
  },
  {
   "cell_type": "code",
   "execution_count": 85,
   "id": "044e0f6f-8f76-4700-94fb-078342b28225",
   "metadata": {},
   "outputs": [
    {
     "data": {
      "image/png": "[encoded data removed]",
      "text/plain": [
       "<Figure size 432x288 with 1 Axes>"
      ]
     },
     "metadata": {
      "needs_background": "light"
     },
     "output_type": "display_data"
    }
   ],
   "source": [
    "plot_distribution(deg_dist,\"NB\")"
   ]
  },
  {
   "cell_type": "markdown",
   "id": "bf193c46-c360-4d62-8666-545ae9655a9f",
   "metadata": {},
   "source": [
    "## Degree centrality metric."
   ]
  },
  {
   "cell_type": "markdown",
   "id": "5f74cc60-94d7-4e34-8dc7-f5d0140e2c9a",
   "metadata": {},
   "source": [
    "### neighbors\n",
    "the number of nodes that a given node could possibly be connected to. By taking the ratio of the number of neighbors a node has to the number of neighbors it could possibly have\n",
    " \n",
    "$$d = \\dfrac{n}{N}$$\n",
    "\n",
    "- degree centrality metric\n",
    "- the number of neighbors that a node has (let's call it n)\n",
    "- the number of neighbors it could possibly have (let's call it N):"
   ]
  },
  {
   "cell_type": "code",
   "execution_count": 75,
   "id": "a51d7fce-3519-4908-8f5f-e9733c96605b",
   "metadata": {},
   "outputs": [
    {
     "name": "stdout",
     "output_type": "stream",
     "text": [
      "degree centrality of node 100 is 0.070732\n",
      "degree centrality of node 101 is 0.031707\n",
      "degree centrality of node 102 is 0.039024\n"
     ]
    }
   ],
   "source": [
    "print(\"degree centrality of node {} is {:.6f}\".format(100, len(list(G.neighbors(100)))/len(G.nodes())))\n",
    "print(\"degree centrality of node {} is {:.6f}\".format(101, len(list(G.neighbors(101)))/len(G.nodes())))\n",
    "print(\"degree centrality of node {} is {:.6f}\".format(102, len(list(G.neighbors(102)))/len(G.nodes())))"
   ]
  },
  {
   "cell_type": "code",
   "execution_count": 35,
   "id": "b9f6d446-18a0-4a19-ad49-ec5ce887bbd4",
   "metadata": {},
   "outputs": [
    {
     "data": {
      "text/plain": [
       "100    0.070905\n",
       "101    0.031785\n",
       "102    0.039120\n",
       "103    0.063570\n",
       "104    0.041565\n",
       "         ...   \n",
       "89     0.009780\n",
       "91     0.051345\n",
       "96     0.036675\n",
       "99     0.034230\n",
       "98     0.002445\n",
       "Length: 410, dtype: float64"
      ]
     },
     "execution_count": 35,
     "metadata": {},
     "output_type": "execute_result"
    }
   ],
   "source": [
    "import networkx as nx\n",
    "import pandas as pd\n",
    "dcs = pd.Series(nx.degree_centrality(G))\n",
    "dcs"
   ]
  },
  {
   "cell_type": "code",
   "execution_count": 37,
   "id": "207a0c54-ee58-4930-9e33-451d5a5359c5",
   "metadata": {},
   "outputs": [
    {
     "data": {
      "text/plain": [
       "51     0.122249\n",
       "272    0.114914\n",
       "235    0.105134\n",
       "195    0.105134\n",
       "265    0.083130\n",
       "         ...   \n",
       "390    0.002445\n",
       "135    0.002445\n",
       "398    0.002445\n",
       "186    0.002445\n",
       "98     0.002445\n",
       "Length: 410, dtype: float64"
      ]
     },
     "execution_count": 37,
     "metadata": {},
     "output_type": "execute_result"
    }
   ],
   "source": [
    "dcs.sort_values(ascending=False)"
   ]
  },
  {
   "cell_type": "code",
   "execution_count": 77,
   "id": "1909b9a7-eeec-4717-8d46-1917b5fb6072",
   "metadata": {},
   "outputs": [
    {
     "data": {
      "text/plain": [
       "Text(0.5, 1.0, 'ecdf')"
      ]
     },
     "execution_count": 77,
     "metadata": {},
     "output_type": "execute_result"
    },
    {
     "data": {
      "image/png": "[encoded data removed]",
      "text/plain": [
       "<Figure size 576x288 with 2 Axes>"
      ]
     },
     "metadata": {
      "needs_background": "light"
     },
     "output_type": "display_data"
    }
   ],
   "source": [
    "from nams.functions import ecdf\n",
    "from nams.solutions.hubs import ecdf_degree_centrality\n",
    "import matplotlib.pyplot as plt\n",
    "import numpy as np\n",
    "\n",
    "\n",
    "# empirical cumulative distribution function\n",
    "def ecdf(data):\n",
    "    x, y = np.sort(data), np.arange(1, len(data)+1) / len(data)\n",
    "    return x, y\n",
    "\n",
    "\n",
    "def ecdf_degree_centrality(G):\n",
    "    \"\"\"ECDF of degree centrality.\"\"\"\n",
    "    x, y = ecdf(list(nx.degree_centrality(G).values()))\n",
    "    plt.scatter(x, y)\n",
    "    plt.xlabel(\"degree centrality\")\n",
    "    plt.ylabel(\"cumulative fraction\")\n",
    "    \n",
    "    \n",
    "fig = plt.figure(figsize=(8, 4))\n",
    "ax_ecdf = fig.add_subplot(121)\n",
    "ax_hist = fig.add_subplot(122)\n",
    "ax_hist.set_title('histogram')\n",
    "\n",
    "mx = np.concatenate([dcs])\n",
    "ax_hist.hist(mx)\n",
    "x, y = ecdf(mx)\n",
    "\n",
    "x, y = ecdf(dcs)\n",
    "ax_ecdf.scatter(x, y)\n",
    "ax_ecdf.set_title('ecdf')"
   ]
  },
  {
   "cell_type": "code",
   "execution_count": 56,
   "id": "6f1e5312-83ff-4a4f-b982-6c56411f25a2",
   "metadata": {},
   "outputs": [
    {
     "data": {
      "image/png": "[encoded data removed]",
      "text/plain": [
       "<Figure size 432x288 with 1 Axes>"
      ]
     },
     "metadata": {
      "needs_background": "light"
     },
     "output_type": "display_data"
    }
   ],
   "source": [
    "ecdf_degree_centrality(G)"
   ]
  },
  {
   "cell_type": "code",
   "execution_count": 97,
   "id": "811bf327-85d9-45b9-aea3-6c7747e5ccbd",
   "metadata": {},
   "outputs": [
    {
     "data": {
      "image/png": "[encoded data removed]",
      "text/plain": [
       "<Figure size 432x288 with 1 Axes>"
      ]
     },
     "metadata": {
      "needs_background": "light"
     },
     "output_type": "display_data"
    }
   ],
   "source": [
    "from nams.solutions.hubs import ecdf_degree\n",
    "\n",
    "def ecdf_degree(G):\n",
    "    \"\"\"ECDF of degree.\"\"\"\n",
    "    num_neighbors = [len(list(G.neighbors(n))) for n in G.nodes()]\n",
    "    x, y = ecdf(num_neighbors)\n",
    "    plt.scatter(x, y)\n",
    "    plt.xlabel(\"degree\")\n",
    "    plt.ylabel(\"cumulative fraction\")\n",
    "\n",
    "#### REPLACE THE FUNCTION CALL WITH YOUR ANSWER\n",
    "ecdf_degree(G)"
   ]
  },
  {
   "cell_type": "raw",
   "id": "2c4a7f80-d964-4e63-8971-194677ae90bc",
   "metadata": {},
   "source": [
    "- The denominator N in the degree centrality definition is \"the number of nodes that a node could possibly be connected to\". Can you think of two ways N be defined?"
   ]
  },
  {
   "cell_type": "code",
   "execution_count": 49,
   "id": "693daf65-23b7-4bde-8ed9-f36b27f73d95",
   "metadata": {},
   "outputs": [
    {
     "name": "stdout",
     "output_type": "stream",
     "text": [
      "\n",
      "The number of possible neighbors can either be defined as:\n",
      "\n",
      "1. All other nodes but myself\n",
      "2. All other nodes and myself\n",
      "\n",
      "If $K$ is the number of nodes in the graph,\n",
      "then if defined as (1), $N$ (the denominator) is $K - 1$.\n",
      "If defined as (2), $N$ is equal to $K$.\n",
      "\n"
     ]
    }
   ],
   "source": [
    "from nams.solutions.hubs import num_possible_neighbors\n",
    "\n",
    "print(num_possible_neighbors())"
   ]
  },
  {
   "cell_type": "code",
   "execution_count": 59,
   "id": "241525c2-d0d8-4130-a46a-d4e7f69b82d4",
   "metadata": {},
   "outputs": [],
   "source": [
    "import nxviz as nv\n",
    "from nams.solutions.hubs import circos_plot"
   ]
  },
  {
   "cell_type": "code",
   "execution_count": 60,
   "id": "cd81f69b-37c1-4ec8-a8be-48ee271457fb",
   "metadata": {},
   "outputs": [],
   "source": [
    "def circos_plot(G):\n",
    "    \"\"\"Draw a Circos Plot of the graph.\"\"\"\n",
    "    # c = CircosPlot(G, node_order=\"order\", node_color=\"order\")\n",
    "    # c.draw()\n",
    "    nv.circos(G, sort_by=\"order\", node_color_by=\"order\")\n",
    "    annotate.node_colormapping(G, color_by=\"order\")"
   ]
  },
  {
   "cell_type": "code",
   "execution_count": null,
   "id": "34244ec1-994c-4187-9c8c-e6a3c6c4248f",
   "metadata": {},
   "outputs": [],
   "source": []
  },
  {
   "cell_type": "markdown",
   "id": "bbc6d4bf-28b7-49b0-a812-64aa6825861c",
   "metadata": {},
   "source": [
    "# Reflections"
   ]
  },
  {
   "cell_type": "code",
   "execution_count": null,
   "id": "58cc517a-14e6-4e5f-8ba5-c07eaafa1541",
   "metadata": {},
   "outputs": [],
   "source": [
    "In other settings, it might help us spot:\n",
    "\n",
    "message amplifiers/influencers in a social network, and\n",
    "potentially crowded airports that have lots of connections into and out of it (still relevant to infectious disease spread!)\n",
    "and many more!\n"
   ]
  }
 ],
 "metadata": {
  "kernelspec": {
   "display_name": "Python 3 (ipykernel)",
   "language": "python",
   "name": "python3"
  },
  "language_info": {
   "codemirror_mode": {
    "name": "ipython",
    "version": 3
   },
   "file_extension": ".py",
   "mimetype": "text/x-python",
   "name": "python",
   "nbconvert_exporter": "python",
   "pygments_lexer": "ipython3",
   "version": "3.9.13"
  }
 },
 "nbformat": 4,
 "nbformat_minor": 5
}
